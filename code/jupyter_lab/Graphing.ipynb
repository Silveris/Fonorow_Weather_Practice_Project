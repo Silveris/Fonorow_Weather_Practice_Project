{
 "cells": [
  {
   "cell_type": "code",
   "execution_count": 1,
   "metadata": {},
   "outputs": [],
   "source": [
    "## Set up\n",
    "\n",
    "# imports\n",
    "import sys\n",
    "sys.path.append('../../')\n",
    "import os\n",
    "import pandas as pd\n",
    "import numpy as np\n",
    "import matplotlib.pyplot as plt\n",
    "from dont_add.config.api_key import weather_key as wKey\n",
    "import requests\n",
    "from scipy.stats import linregress\n",
    "from pprint import pprint\n",
    "from citipy import citipy\n",
    "import random\n",
    "import datetime\n",
    "# from code.python.project_fns import saveTimeStamped\n",
    "\n",
    "# paths\n",
    "out_table_path_base = os.path.join('..','..','output','tables')\n",
    "out_graph_path_base = os.path.join('..','..','output','graphs')\n",
    "out_cities_list_path = os.path.join('..','..','data','cities')\n"
   ]
  },
  {
   "cell_type": "code",
   "execution_count": 2,
   "metadata": {},
   "outputs": [],
   "source": [
    "def saveTimeStamped(df, base_path, name):\n",
    "    name = '/' + name\n",
    "    time_stamp = datetime.date.today()\n",
    "    file_name = f'{name}_{time_stamp}'\n",
    "    outpath = base_path + file_name\n",
    "    df.to_csv(outpath, index=False)"
   ]
  },
  {
   "cell_type": "code",
   "execution_count": 3,
   "metadata": {},
   "outputs": [],
   "source": [
    "def linRegresPlt(x_vals, y_vals, labels=['title' , 'y']):\n",
    "    '''\n",
    "         x_vals = df['']\n",
    "         y_vals = df['']\n",
    "         labels = ['title' , 'y']\n",
    "    '''\n",
    "    \n",
    "    \n",
    "    savePath = outPathBase + labels[0] + '.png'\n",
    "    \n",
    "    (slope, intercept, rvalue, pvalue, stderr) = linregress(x_vals, y_vals)\n",
    "    regress_values = x_vals * slope + intercept\n",
    "    line_eq = \"y = \" + str(round(slope,2)) + \"x + \" + str(round(intercept,2))\n",
    "    print(line_eq)\n",
    "    print(f\"The r-squared is: {rvalue}\")\n",
    "    \n",
    "    plt.close()\n",
    "    plt.scatter(x_vals, y_vals, alpha=0.5)\n",
    "    plt.xlabel('Latitude')\n",
    "    plt.ylabel(labels[1])\n",
    "    plt.title(labels[0])\n",
    "    plt.plot(x_vals, regress_values, \"r-\")\n",
    "    plt.legend(labels=['Correlation line', 'City'], loc='best')\n",
    "    plt.savefig(savePath)\n",
    "\n",
    "    plt.show()"
   ]
  },
  {
   "cell_type": "code",
   "execution_count": null,
   "metadata": {},
   "outputs": [],
   "source": []
  }
 ],
 "metadata": {
  "kernelspec": {
   "display_name": "Python 3",
   "language": "python",
   "name": "python3"
  },
  "language_info": {
   "codemirror_mode": {
    "name": "ipython",
    "version": 3
   },
   "file_extension": ".py",
   "mimetype": "text/x-python",
   "name": "python",
   "nbconvert_exporter": "python",
   "pygments_lexer": "ipython3",
   "version": "3.7.6"
  }
 },
 "nbformat": 4,
 "nbformat_minor": 4
}
