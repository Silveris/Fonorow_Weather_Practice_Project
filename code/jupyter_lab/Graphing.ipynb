{
 "cells": [
  {
   "cell_type": "code",
   "execution_count": 4,
   "metadata": {},
   "outputs": [],
   "source": [
    "## Set up\n",
    "\n",
    "# imports\n",
    "import sys\n",
    "sys.path.append('../../')\n",
    "import os\n",
    "import pandas as pd\n",
    "import numpy as np\n",
    "import matplotlib.pyplot as plt\n",
    "from dont_add.config.api_key import weather_key as wKey\n",
    "import requests\n",
    "from scipy.stats import linregress\n",
    "from pprint import pprint\n",
    "from citipy import citipy\n",
    "import random\n",
    "import datetime\n",
    "# from code.python.project_fns import saveTimeStamped\n",
    "\n",
    "# paths\n",
    "out_table_path_base = os.path.join('..','..','output','tables')\n",
    "out_graph_path_base = os.path.join('..','..','output','graphs')\n",
    "cities_list_path = os.path.join('..','..','data','cities')\n"
   ]
  },
  {
   "cell_type": "code",
   "execution_count": 2,
   "metadata": {},
   "outputs": [],
   "source": [
    "def saveCSVTimeStamped(df, base_path, name):\n",
    "    '''\n",
    "    Summary :\n",
    "        Saves a Pandas DF with the current Y-M-D timestamped csv file\n",
    "        \n",
    "    Params :\n",
    "        df = the dataframe to save\n",
    "        base_path = the path to the folder you want to save it in\n",
    "        name = the name you want the file to be saved as\n",
    "    '''\n",
    "    name = '/' + name\n",
    "    time_stamp = datetime.date.today()\n",
    "    file_name = f'{name}_{time_stamp}'\n",
    "    outpath = base_path + file_name\n",
    "    df.to_csv(outpath, index=False)"
   ]
  },
  {
   "cell_type": "code",
   "execution_count": 3,
   "metadata": {},
   "outputs": [],
   "source": [
    "def linRegresScaterPlt(x_vals, y_vals, labels=['title' , 'y', 'x'], path_base):\n",
    "    '''\n",
    "        Summary : \n",
    "            Using 2 coloums of apandas df, plots a scatterplot\n",
    "            and draws a linear regresion line \n",
    "            \n",
    "            Needs: \n",
    "                a list with 3 strings in title, y, x order\n",
    "                the values for x and y in pandas columns\n",
    "                a path to a file to save the graph in\n",
    "        \n",
    "        Params : \n",
    "             x_vals = df[''] ~ x values. should be lat or long\n",
    "             y_vals = df[''] ~ y values. whatever weather val you want to plot by city\n",
    "             labels = ['title' , 'y', 'x']  ~  the labels you want on the graph / legend\n",
    "             path_base = path to save file local\n",
    "    '''\n",
    "    # saving path for output\n",
    "    savePath = path_base + labels[0] + '.png'\n",
    "    \n",
    "    (slope, intercept, rvalue, pvalue, stderr) = linregress(x_vals, y_vals)\n",
    "    regress_values = x_vals * slope + intercept\n",
    "    line_eq = \"y = \" + str(round(slope,2)) + \"x + \" + str(round(intercept,2))\n",
    "    print(line_eq)\n",
    "    print(f\"The r-squared is: {rvalue}\")\n",
    "    \n",
    "    plt.close()\n",
    "    plt.scatter(x_vals, y_vals, alpha=0.5)\n",
    "    plt.xlabel()\n",
    "    plt.ylabel(labels[1])\n",
    "    plt.title(labels[0])\n",
    "    plt.plot(x_vals, regress_values, \"r-\")\n",
    "    plt.legend(labels=['Correlation line', 'City'], loc='best')\n",
    "    plt.savefig(savePath)\n",
    "\n",
    "    plt.show()"
   ]
  },
  {
   "cell_type": "code",
   "execution_count": null,
   "metadata": {},
   "outputs": [],
   "source": []
  }
 ],
 "metadata": {
  "kernelspec": {
   "display_name": "Python 3",
   "language": "python",
   "name": "python3"
  },
  "language_info": {
   "codemirror_mode": {
    "name": "ipython",
    "version": 3
   },
   "file_extension": ".py",
   "mimetype": "text/x-python",
   "name": "python",
   "nbconvert_exporter": "python",
   "pygments_lexer": "ipython3",
   "version": "3.7.6"
  }
 },
 "nbformat": 4,
 "nbformat_minor": 4
}
