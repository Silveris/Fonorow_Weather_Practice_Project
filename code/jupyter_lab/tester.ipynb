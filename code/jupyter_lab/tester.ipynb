{
 "cells": [
  {
   "cell_type": "code",
   "execution_count": 12,
   "metadata": {},
   "outputs": [],
   "source": [
    "# imports\n",
    "import sys\n",
    "sys.path.append('../../')\n",
    "import pandas as pd\n",
    "import matplotlib.pyplot as plt\n",
    "from dont_add.config.api_key import weather_key as wKey\n",
    "import requests\n",
    "from scipy.stats import linregress\n",
    "from pprint import pprint\n",
    "from citipy import citipy\n"
   ]
  },
  {
   "cell_type": "code",
   "execution_count": 13,
   "metadata": {},
   "outputs": [],
   "source": [
    "# Build query URL and request your results in Celsius\n",
    "url = \"http://api.openweathermap.org/data/2.5/weather?\"\n",
    "city = \"Bujumbura\"\n",
    "units = 'metric'\n",
    "\n",
    "# Build query URL\n",
    "query_url = f'{url}appid={wKey}&q={city}&units={units}'\n",
    "# Get weather data\n",
    "weather_response = requests.get(query_url)\n",
    "weather = weather_response.json()"
   ]
  },
  {
   "cell_type": "code",
   "execution_count": 15,
   "metadata": {},
   "outputs": [
    {
     "name": "stdout",
     "output_type": "stream",
     "text": [
      "{'base': 'stations',\n",
      " 'clouds': {'all': 54},\n",
      " 'cod': 200,\n",
      " 'coord': {'lat': -3.38, 'lon': 29.36},\n",
      " 'dt': 1587946061,\n",
      " 'id': 425378,\n",
      " 'main': {'feels_like': 21.36,\n",
      "          'grnd_level': 926,\n",
      "          'humidity': 51,\n",
      "          'pressure': 1014,\n",
      "          'sea_level': 1014,\n",
      "          'temp': 21.61,\n",
      "          'temp_max': 21.61,\n",
      "          'temp_min': 21.61},\n",
      " 'name': 'Bujumbura',\n",
      " 'rain': {'3h': 0.61},\n",
      " 'sys': {'country': 'BI', 'sunrise': 1587959997, 'sunset': 1588003205},\n",
      " 'timezone': 7200,\n",
      " 'weather': [{'description': 'light rain',\n",
      "              'icon': '10n',\n",
      "              'id': 500,\n",
      "              'main': 'Rain'}],\n",
      " 'wind': {'deg': 109, 'speed': 0.83}}\n"
     ]
    }
   ],
   "source": [
    "pprint(weather)"
   ]
  },
  {
   "cell_type": "code",
   "execution_count": 17,
   "metadata": {},
   "outputs": [],
   "source": [
    "key = ''\n",
    "lat = ''\n",
    "lon = ''\n",
    "exmp_url = f'api.openweathermap.org/data/2.5/weather?lat={lat}&lon={lon}&appid={key}'"
   ]
  },
  {
   "cell_type": "code",
   "execution_count": 28,
   "metadata": {},
   "outputs": [],
   "source": [
    "test_lat = 36.174465\n",
    "test_lon = -86.767960\n",
    "# lat and lon are for Nashville TN\n",
    "test_url = f'http://api.openweathermap.org/data/2.5/weather?'\n",
    "units = 'imperial'\n",
    "\n",
    "params = {'lat' : test_lat, 'lon' : test_lon, 'appid': wKey, 'units' : units}\n",
    "\n"
   ]
  },
  {
   "cell_type": "code",
   "execution_count": 29,
   "metadata": {},
   "outputs": [],
   "source": [
    "test_weather_response = requests.get(test_url, params=params)\n",
    "test_resp = test_weather_response.json()"
   ]
  },
  {
   "cell_type": "code",
   "execution_count": 30,
   "metadata": {},
   "outputs": [
    {
     "name": "stdout",
     "output_type": "stream",
     "text": [
      "{'base': 'stations',\n",
      " 'clouds': {'all': 75},\n",
      " 'cod': 200,\n",
      " 'coord': {'lat': 36.17, 'lon': -86.77},\n",
      " 'dt': 1587947712,\n",
      " 'id': 4644585,\n",
      " 'main': {'feels_like': 43.32,\n",
      "          'humidity': 54,\n",
      "          'pressure': 1021,\n",
      "          'temp': 51.53,\n",
      "          'temp_max': 53.6,\n",
      "          'temp_min': 48.99},\n",
      " 'name': 'Nashville',\n",
      " 'sys': {'country': 'US',\n",
      "         'id': 3477,\n",
      "         'sunrise': 1587898748,\n",
      "         'sunset': 1587947408,\n",
      "         'type': 1},\n",
      " 'timezone': -18000,\n",
      " 'visibility': 16093,\n",
      " 'weather': [{'description': 'broken clouds',\n",
      "              'icon': '04n',\n",
      "              'id': 803,\n",
      "              'main': 'Clouds'}],\n",
      " 'wind': {'deg': 300, 'speed': 9.17}}\n"
     ]
    }
   ],
   "source": [
    "pprint(test_resp)"
   ]
  },
  {
   "cell_type": "code",
   "execution_count": null,
   "metadata": {},
   "outputs": [],
   "source": []
  }
 ],
 "metadata": {
  "kernelspec": {
   "display_name": "Python 3",
   "language": "python",
   "name": "python3"
  },
  "language_info": {
   "codemirror_mode": {
    "name": "ipython",
    "version": 3
   },
   "file_extension": ".py",
   "mimetype": "text/x-python",
   "name": "python",
   "nbconvert_exporter": "python",
   "pygments_lexer": "ipython3",
   "version": "3.7.6"
  }
 },
 "nbformat": 4,
 "nbformat_minor": 4
}
