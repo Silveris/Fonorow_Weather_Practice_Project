{
 "cells": [
  {
   "cell_type": "code",
   "execution_count": 1,
   "metadata": {},
   "outputs": [],
   "source": [
    "# imports\n",
    "import sys\n",
    "sys.path.append('../../')\n",
    "import os\n",
    "import pandas as pd\n",
    "import numpy as np\n",
    "import matplotlib.pyplot as plt\n",
    "from dont_add.config.api_key import weather_key as wKey\n",
    "import requests\n",
    "from scipy.stats import linregress\n",
    "from pprint import pprint\n",
    "from citipy import citipy\n",
    "import random\n",
    "import datetime"
   ]
  },
  {
   "cell_type": "code",
   "execution_count": 2,
   "metadata": {},
   "outputs": [],
   "source": [
    "# Makes a dir of the current days date\n",
    "def mk_Tstmp_dir(path):\n",
    "    '''\n",
    "    Summary : \n",
    "        Checks if the pathed file contains a current dated file\n",
    "        if there isnt one, it makes one.\n",
    "    \n",
    "    Params : \n",
    "        path = path to the file you want to make the directory in\n",
    "    '''\n",
    "    # makes the timestamp\n",
    "    time_stamp = datetime.date.today()\n",
    "    dir_path = os.path.join(path, str(time_stamp))\n",
    "    \n",
    "    # Checks and makes Folder\n",
    "    if not os.path.isdir(dir_path):\n",
    "        print('Folder not found. attempting to make')\n",
    "        os.mkdir(dir_path)\n",
    "    else:\n",
    "        print('Folder already exists')\n",
    "    return\n"
   ]
  },
  {
   "cell_type": "code",
   "execution_count": 3,
   "metadata": {},
   "outputs": [],
   "source": [
    "def saveCSVTimeStamped(df, base_path, name):\n",
    "    '''\n",
    "    Summary :\n",
    "        Saves a Pandas DF with the current Y-M-D timestamped csv file\n",
    "        \n",
    "    Params :\n",
    "        df = the dataframe to save\n",
    "        base_path = the path to the folder you want to save it in\n",
    "        name = the name you want the file to be saved as\n",
    "    '''\n",
    "    name = '/' + name\n",
    "    time_stamp = datetime.date.today()\n",
    "    file_name = f'{name}_{time_stamp}'\n",
    "    outpath = base_path + file_name\n",
    "    df.to_csv(outpath, index=False)\n",
    "    return"
   ]
  },
  {
   "cell_type": "code",
   "execution_count": null,
   "metadata": {},
   "outputs": [],
   "source": [
    "# importing data from tabels file and sorting it\n",
    "def pullNsortDF(path):\n",
    "    \n",
    "    \n",
    "    return\n"
   ]
  },
  {
   "cell_type": "code",
   "execution_count": 9,
   "metadata": {},
   "outputs": [
    {
     "name": "stdout",
     "output_type": "stream",
     "text": [
      "Bahamas\n"
     ]
    }
   ],
   "source": [
    "path = 'output/tables/Bahamas_2020-04-29'\n",
    "name = (path.split(sep='/')[2]).split(sep='_')[0]\n",
    "print(name)"
   ]
  },
  {
   "cell_type": "code",
   "execution_count": null,
   "metadata": {},
   "outputs": [],
   "source": []
  }
 ],
 "metadata": {
  "kernelspec": {
   "display_name": "Python 3",
   "language": "python",
   "name": "python3"
  },
  "language_info": {
   "codemirror_mode": {
    "name": "ipython",
    "version": 3
   },
   "file_extension": ".py",
   "mimetype": "text/x-python",
   "name": "python",
   "nbconvert_exporter": "python",
   "pygments_lexer": "ipython3",
   "version": "3.7.6"
  }
 },
 "nbformat": 4,
 "nbformat_minor": 4
}
