{
 "cells": [
  {
   "cell_type": "code",
   "execution_count": 36,
   "metadata": {},
   "outputs": [],
   "source": [
    "## Set up\n",
    "\n",
    "# imports\n",
    "import sys\n",
    "sys.path.append('../../')\n",
    "import os\n",
    "import pandas as pd\n",
    "import numpy as np\n",
    "import matplotlib.pyplot as plt\n",
    "from dont_add.config.api_key import weather_key as wKey\n",
    "import requests\n",
    "from scipy.stats import linregress\n",
    "from pprint import pprint\n",
    "from citipy import citipy\n",
    "import random\n",
    "import datetime\n",
    "# from code.python.project_fns import saveTimeStamped\n",
    "\n",
    "# paths\n",
    "out_table_path_base = os.path.join('..','..','output','tables')\n",
    "out_graph_path_base = os.path.join('..','..','output','graphs')\n",
    "out_cities_list_path = os.path.join('..','..','data','cities')\n"
   ]
  },
  {
   "cell_type": "code",
   "execution_count": 41,
   "metadata": {},
   "outputs": [],
   "source": [
    "def saveTimeStamped(df, base_path, name):\n",
    "    name = '/' + name\n",
    "    time_stamp = datetime.date.today()\n",
    "    file_name = f'{name}_{time_stamp}'\n",
    "    outpath = base_path + file_name\n",
    "    df.to_csv(outpath, index=False)\n",
    "    return"
   ]
  },
  {
   "cell_type": "code",
   "execution_count": 33,
   "metadata": {},
   "outputs": [],
   "source": [
    "def makeCitiesList(country_coords):\n",
    "    \n",
    "    # Range of latitudes and longitudes for the set confines\n",
    "    lat_range = (country_coords['lat'][0], country_coords['lat'][1])\n",
    "    lng_range = (country_coords['lng'][0], country_coords['lng'][1])\n",
    "\n",
    "    # List for holding lat_lngs and cities\n",
    "    lat_lngs = []\n",
    "    cities = []\n",
    "\n",
    "    # Create a set of random lat and lng combinations\n",
    "    lats = np.random.uniform(low=lat_range[0], high=lat_range[1], size=1500)\n",
    "    lngs = np.random.uniform(low=lng_range[0], high=lng_range[1], size=1500)\n",
    "    lat_lngs = zip(lats, lngs)\n",
    "\n",
    "    # Identify nearest city for each lat, lng combination\n",
    "    for lat_lng in lat_lngs:\n",
    "        city = citipy.nearest_city(lat_lng[0], lat_lng[1]).city_name\n",
    "\n",
    "        # If the city is unique, then add it to a our cities list\n",
    "        if city not in cities:\n",
    "            cities.append(city)\n",
    "\n",
    "    # Print the city count to confirm sufficient count\n",
    "    len(cities)\n",
    "    return(cities)"
   ]
  },
  {
   "cell_type": "code",
   "execution_count": 43,
   "metadata": {},
   "outputs": [],
   "source": [
    "def collectData(cities, filename):\n",
    "    \n",
    "    # Lists to store data into\n",
    "    cur_temps = []\n",
    "    min_temps = []\n",
    "    max_temps = []\n",
    "    feel_temps = []\n",
    "    humidities = []\n",
    "    cloudinessess = []\n",
    "    windSpeeds = []\n",
    "    cityLats = []\n",
    "    cityLngs = []\n",
    "    dates = []\n",
    "    countries = []\n",
    "    names = []\n",
    "    pressures = []\n",
    "    \n",
    "    # loop to get the data for each city\n",
    "    units = 'imperial'\n",
    "    count = 1\n",
    "    print('Beginning Data Retrieval')\n",
    "    print('--------------------------------------')\n",
    "    for city in cities:\n",
    "        params = {'q' : city, 'appid': wKey, 'units' : units}\n",
    "        url = f'http://api.openweathermap.org/data/2.5/weather?q={city}&appid={wKey}&units=imperial'\n",
    "        response = requests.get(url).json()\n",
    "        print(f'Attempting to save data for {city} : (number{count})')\n",
    "        try:\n",
    "            names.append(response['name'])\n",
    "            max_temps.append(response['main']['temp_max'])\n",
    "            cur_temps.append(response['main']['temp'])\n",
    "            min_temps.append(response['main']['temp_min'])\n",
    "            feel_temps.append(response['main']['feels_like'])\n",
    "            humidities.append(response['main']['humidity'])\n",
    "            cloudinessess.append(response['clouds']['all'])\n",
    "            windSpeeds.append(response['wind']['speed'])\n",
    "            cityLats.append(response['coord']['lat'])\n",
    "            cityLngs.append(response['coord']['lon'])\n",
    "            dates.append(response['dt'])\n",
    "            countries.append(response['sys']['country'])\n",
    "            pressures.append(response['main']['pressure'])\n",
    "        except KeyError:\n",
    "            print(f'failed to find all info for {city}, skipping remaining info')\n",
    "        count += 1\n",
    "    print('--------------------------------------')\n",
    "    print('Data Retrieval Complete')\n",
    "    print('--------------------------------------')\n",
    "    \n",
    "    # make Pandas DF for collected data\n",
    "    base_df_dict = {\n",
    "        'City' : names,\n",
    "        'Cloudiness' : cloudinessess,\n",
    "        'Country' : countries,\n",
    "        'Date' : dates,\n",
    "        'Humidity' : humidities,\n",
    "        'Lat' : cityLats,\n",
    "        'Lng' : cityLngs,\n",
    "        'Current Temp' : cur_temps,\n",
    "        'Max Temp' : max_temps,\n",
    "        'Min Temp' : min_temps,\n",
    "        'Feels Like Temp' : feel_temps,\n",
    "        'Wind Speed' : windSpeeds,\n",
    "        'Pressure' : pressures}\n",
    "\n",
    "    base_df = pd.DataFrame(base_df_dict)    \n",
    "    saveTimeStamped(df=base_df, base_path=out_table_path_base, name=filename)\n",
    "    return\n"
   ]
  },
  {
   "cell_type": "code",
   "execution_count": 40,
   "metadata": {},
   "outputs": [],
   "source": [
    "# collectData(cities=test_cities, filename='test')"
   ]
  },
  {
   "cell_type": "code",
   "execution_count": null,
   "metadata": {},
   "outputs": [],
   "source": []
  },
  {
   "cell_type": "code",
   "execution_count": 45,
   "metadata": {},
   "outputs": [],
   "source": [
    "BAHA = {'lat' : [20.94982, 26.86667],\n",
    "       'lng' : [-79.3, -72.96667]}\n",
    "\n",
    "BHAH_cities = makeCitiesList(BAHA)"
   ]
  },
  {
   "cell_type": "code",
   "execution_count": 46,
   "metadata": {},
   "outputs": [
    {
     "name": "stdout",
     "output_type": "stream",
     "text": [
      "['cockburn town', 'clarence town', 'andros town', 'florida', 'rock sound', 'dunmore town', 'yaguajay', 'manati', 'primero de enero', 'baracoa', 'alice town', 'marsh harbour', 'venezuela', 'moron', 'nuevitas', 'minas', 'freeport', 'moa', 'gibara', 'esmeralda', 'caibarien', 'nassau', 'cockburn harbour', 'high rock', 'chambas', 'vertientes', 'sibanicu', 'banes', 'baragua', 'amancio', 'key largo', 'ciego de avila', 'port-de-paix', 'jatibonico', 'sancti spiritus', 'guaimaro', 'puerto padre', 'las tunas', 'sagua la grande', 'sagua de tanamo', 'jobabo', 'camaguey', 'colombia']\n"
     ]
    }
   ],
   "source": [
    "print(BHAH_cities)"
   ]
  },
  {
   "cell_type": "code",
   "execution_count": 47,
   "metadata": {},
   "outputs": [
    {
     "name": "stdout",
     "output_type": "stream",
     "text": [
      "Beginning Data Retrieval\n",
      "--------------------------------------\n",
      "Attempting to save data for cockburn town : (number1)\n",
      "Attempting to save data for clarence town : (number2)\n",
      "Attempting to save data for andros town : (number3)\n",
      "Attempting to save data for florida : (number4)\n",
      "Attempting to save data for rock sound : (number5)\n",
      "Attempting to save data for dunmore town : (number6)\n",
      "Attempting to save data for yaguajay : (number7)\n",
      "Attempting to save data for manati : (number8)\n",
      "Attempting to save data for primero de enero : (number9)\n",
      "Attempting to save data for baracoa : (number10)\n",
      "Attempting to save data for alice town : (number11)\n",
      "Attempting to save data for marsh harbour : (number12)\n",
      "Attempting to save data for venezuela : (number13)\n",
      "Attempting to save data for moron : (number14)\n",
      "Attempting to save data for nuevitas : (number15)\n",
      "Attempting to save data for minas : (number16)\n",
      "Attempting to save data for freeport : (number17)\n",
      "Attempting to save data for moa : (number18)\n",
      "Attempting to save data for gibara : (number19)\n",
      "Attempting to save data for esmeralda : (number20)\n",
      "Attempting to save data for caibarien : (number21)\n",
      "Attempting to save data for nassau : (number22)\n",
      "Attempting to save data for cockburn harbour : (number23)\n",
      "failed to find all info for cockburn harbour, skipping remaining info\n",
      "Attempting to save data for high rock : (number24)\n",
      "Attempting to save data for chambas : (number25)\n",
      "Attempting to save data for vertientes : (number26)\n",
      "Attempting to save data for sibanicu : (number27)\n",
      "Attempting to save data for banes : (number28)\n",
      "Attempting to save data for baragua : (number29)\n",
      "Attempting to save data for amancio : (number30)\n",
      "failed to find all info for amancio, skipping remaining info\n",
      "Attempting to save data for key largo : (number31)\n",
      "Attempting to save data for ciego de avila : (number32)\n",
      "Attempting to save data for port-de-paix : (number33)\n",
      "failed to find all info for port-de-paix, skipping remaining info\n",
      "Attempting to save data for jatibonico : (number34)\n",
      "Attempting to save data for sancti spiritus : (number35)\n",
      "Attempting to save data for guaimaro : (number36)\n",
      "Attempting to save data for puerto padre : (number37)\n",
      "Attempting to save data for las tunas : (number38)\n",
      "Attempting to save data for sagua la grande : (number39)\n",
      "Attempting to save data for sagua de tanamo : (number40)\n",
      "Attempting to save data for jobabo : (number41)\n",
      "Attempting to save data for camaguey : (number42)\n",
      "Attempting to save data for colombia : (number43)\n",
      "--------------------------------------\n",
      "Data Retrieval Complete\n",
      "--------------------------------------\n"
     ]
    }
   ],
   "source": [
    "collectData(cities=BHAH_cities, filename='Bahamas')"
   ]
  },
  {
   "cell_type": "code",
   "execution_count": null,
   "metadata": {},
   "outputs": [],
   "source": []
  }
 ],
 "metadata": {
  "kernelspec": {
   "display_name": "Python 3",
   "language": "python",
   "name": "python3"
  },
  "language_info": {
   "codemirror_mode": {
    "name": "ipython",
    "version": 3
   },
   "file_extension": ".py",
   "mimetype": "text/x-python",
   "name": "python",
   "nbconvert_exporter": "python",
   "pygments_lexer": "ipython3",
   "version": "3.7.6"
  }
 },
 "nbformat": 4,
 "nbformat_minor": 4
}
